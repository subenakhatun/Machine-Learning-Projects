{
 "cells": [
  {
   "cell_type": "markdown",
   "id": "fa6d6d5c",
   "metadata": {},
   "source": [
    "# SMS-Spam Dataset\n",
    "### Working steps:\n",
    "1. Data cleaning\n",
    "    - Missing values handle \n",
    "    - Remove Duplicate\n",
    "    - Error types handlaing\n",
    "    - Outliers remove or fix \n",
    "    - Spelling mistakes, inconsistent labels\n",
    "    - Unnecessary symbols, punctuation, special characters\n",
    "2. Exploratoring Data Analysis\n",
    "    - Summary statistics\n",
    "    - Show Distribution\n",
    "    - Understand the Feature vs label \n",
    "    - Visualization(barplot, scatterplot, heatmap)\n",
    "    - Correlation matrix \n",
    "3. Text Preprocessing\n",
    "    - lowercase\n",
    "    - tokenization\n",
    "    - Remove special character\n",
    "    - Removing stop words\n",
    "    - steaming: just give common lenth word\n",
    "4. Model builiding\n",
    "    - Select Model: logistice, naivebyes\n",
    "5. Evaluation\n",
    "    - Accuracy, Precision, Recall, F1-score\n",
    "    - Confusion Matrix\n",
    "    - ROC-AUC score\n",
    "6. Improvemnet"
   ]
  },
  {
   "cell_type": "code",
   "execution_count": null,
   "id": "d53871c3",
   "metadata": {},
   "outputs": [],
   "source": []
  }
 ],
 "metadata": {
  "kernelspec": {
   "display_name": "Python 3",
   "language": "python",
   "name": "python3"
  },
  "language_info": {
   "name": "python",
   "version": "3.12.1"
  }
 },
 "nbformat": 4,
 "nbformat_minor": 5
}
